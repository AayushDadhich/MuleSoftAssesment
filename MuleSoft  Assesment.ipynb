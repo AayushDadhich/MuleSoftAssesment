{
 "cells": [
  {
   "cell_type": "code",
   "execution_count": 2,
   "metadata": {},
   "outputs": [],
   "source": [
    "import mysql.connector"
   ]
  },
  {
   "cell_type": "code",
   "execution_count": 6,
   "metadata": {},
   "outputs": [],
   "source": [
    "#establish connection to mysql server\n",
    "mydb = mysql.connector.connect(\n",
    "  host=\"localhost\",\n",
    "  user=\"root\",\n",
    "  password=\"aayush\"\n",
    ")\n",
    "mycursor = mydb.cursor()"
   ]
  },
  {
   "cell_type": "code",
   "execution_count": 17,
   "metadata": {},
   "outputs": [],
   "source": [
    "#Create database for storing movies\n",
    "mycursor.execute(\"CREATE DATABASE movies_db\")"
   ]
  },
  {
   "cell_type": "code",
   "execution_count": 18,
   "metadata": {},
   "outputs": [],
   "source": [
    "#Select/Use the database\n",
    "mycursor.execute(\"USE movies_db\")"
   ]
  },
  {
   "cell_type": "code",
   "execution_count": 45,
   "metadata": {},
   "outputs": [],
   "source": [
    "#create tables for storing movie records\n",
    "mycursor.execute(\"CREATE TABLE movies(name VARCHAR(50) NOT NULL,actor VARCHAR(50),actress VARCHAR(50),year_of_release INT,director VARCHAR(50),PRIMARY KEY (name))\")"
   ]
  },
  {
   "cell_type": "code",
   "execution_count": 46,
   "metadata": {},
   "outputs": [
    {
     "name": "stdout",
     "output_type": "stream",
     "text": [
      "5 movies were inserted.\n"
     ]
    }
   ],
   "source": [
    "sql = \"INSERT INTO movies (name, actor, actress, year_of_release, director) VALUES (%s, %s,%s,%s,%s)\"\n",
    "val = [\n",
    "  ('DDLJ', 'Shah Rukh Khan', 'Kajol Devgan', 1995, 'Aditya Chopra'),\n",
    "  ('Dil Bechara', 'Sushant Singh Rajput', 'Sanjana Sanghi', 2020, 'Mukesh Chhabra'),\n",
    "  ('Kabhi Khushi Kabhie Gham', 'Shah Rukh Khan', 'Kajol Devgan', 2001, 'Karan Johar'),\n",
    "  ('Kabir Singh', 'Shahid Kapoor', 'Kiara Advani', 2019, 'Sandeep Reddy Vanga'),\n",
    "  ('Raees','Shah Rukh Khan', 'Mahira Khan', 2017, 'Rahul Dholakia')\n",
    "]\n",
    "mycursor.executemany(sql, val)\n",
    "mydb.commit()\n",
    "print(mycursor.rowcount, \"movies were inserted.\")"
   ]
  },
  {
   "cell_type": "code",
   "execution_count": 47,
   "metadata": {},
   "outputs": [
    {
     "name": "stdout",
     "output_type": "stream",
     "text": [
      "[('DDLJ', 'Shah Rukh Khan', 'Kajol Devgan', 1995, 'Aditya Chopra'), ('Dil Bechara', 'Sushant Singh Rajput', 'Sanjana Sanghi', 2020, 'Mukesh Chhabra'), ('Kabhi Khushi Kabhie Gham', 'Shah Rukh Khan', 'Kajol Devgan', 2001, 'Karan Johar'), ('Kabir Singh', 'Shahid Kapoor', 'Kiara Advani', 2019, 'Sandeep Reddy Vanga'), ('Raees', 'Shah Rukh Khan', 'Mahira Khan', 2017, 'Rahul Dholakia')]\n"
     ]
    }
   ],
   "source": [
    "#Select all rows\n",
    "mycursor.execute(\"SELECT * FROM movies;\")\n",
    "print(mycursor.fetchall())"
   ]
  },
  {
   "cell_type": "code",
   "execution_count": 48,
   "metadata": {},
   "outputs": [
    {
     "name": "stdout",
     "output_type": "stream",
     "text": [
      "[('DDLJ', 'Shah Rukh Khan', 'Kajol Devgan', 1995, 'Aditya Chopra'), ('Kabhi Khushi Kabhie Gham', 'Shah Rukh Khan', 'Kajol Devgan', 2001, 'Karan Johar'), ('Raees', 'Shah Rukh Khan', 'Mahira Khan', 2017, 'Rahul Dholakia')]\n"
     ]
    }
   ],
   "source": [
    "#Select movies of particular actor\n",
    "actor_name=\"Shah Rukh Khan\"\n",
    "mycursor.execute(f\"SELECT * FROM movies where actor=\\\"{actor_name}\\\"\")\n",
    "print(mycursor.fetchall())"
   ]
  }
 ],
 "metadata": {
  "kernelspec": {
   "display_name": "Python 3",
   "language": "python",
   "name": "python3"
  },
  "language_info": {
   "codemirror_mode": {
    "name": "ipython",
    "version": 3
   },
   "file_extension": ".py",
   "mimetype": "text/x-python",
   "name": "python",
   "nbconvert_exporter": "python",
   "pygments_lexer": "ipython3",
   "version": "3.7.6"
  }
 },
 "nbformat": 4,
 "nbformat_minor": 4
}
